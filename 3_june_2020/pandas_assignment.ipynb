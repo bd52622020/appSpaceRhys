{
 "cells": [
  {
   "cell_type": "markdown",
   "metadata": {},
   "source": [
    "Imports"
   ]
  },
  {
   "cell_type": "code",
   "execution_count": 1,
   "metadata": {},
   "outputs": [],
   "source": [
    "import pandas as pd\n",
    "from datetime import datetime"
   ]
  },
  {
   "cell_type": "markdown",
   "metadata": {},
   "source": [
    "Import data"
   ]
  },
  {
   "cell_type": "code",
   "execution_count": 2,
   "metadata": {},
   "outputs": [],
   "source": [
    "data_df_columns = [\"user id\", \"item id\", \"rating\", \"timestamp\"]\n",
    "data_df = pd.read_csv(\"./ml-100k/u.data\", delim_whitespace=True, names=data_df_columns)\n",
    "item_df_columns = [\"movie id\", \"movie title\", \"release date\", \"video release date\",\\\n",
    "\"IMDb URL\", \"unknown\", \"Action\", \"Adventure\", \"Animation\",\\\n",
    "\"Children's\", \"Comedy\", \"Crime\", \"Documentary\", \"Drama\", \"Fantasy\",\\\n",
    "\"Film-Noir\", \"Horror\", \"Musical\", \"Mystery\", \"Romance\", \"Sci-Fi\",\\\n",
    "\"Thriller\", \"War\", \"Western\"]\n",
    "item_df = pd.read_csv(\"./ml-100k/u.item\", encoding = \"ISO-8859-1\", sep='|', names=item_df_columns)\n",
    "user_df_columns = [\"user id\" , \"age\" , \"gender\" , \"occupation\" , \"zip code\"]\n",
    "user_df = pd.read_csv(\"./ml-100k/u.user\", encoding = \"ISO-8859-1\", sep='|', names=user_df_columns)"
   ]
  },
  {
   "cell_type": "markdown",
   "metadata": {},
   "source": [
    "Merge dataframes"
   ]
  },
  {
   "cell_type": "code",
   "execution_count": 3,
   "metadata": {},
   "outputs": [
    {
     "data": {
      "text/html": [
       "<div>\n",
       "<style scoped>\n",
       "    .dataframe tbody tr th:only-of-type {\n",
       "        vertical-align: middle;\n",
       "    }\n",
       "\n",
       "    .dataframe tbody tr th {\n",
       "        vertical-align: top;\n",
       "    }\n",
       "\n",
       "    .dataframe thead th {\n",
       "        text-align: right;\n",
       "    }\n",
       "</style>\n",
       "<table border=\"1\" class=\"dataframe\">\n",
       "  <thead>\n",
       "    <tr style=\"text-align: right;\">\n",
       "      <th></th>\n",
       "      <th>user id</th>\n",
       "      <th>movie id</th>\n",
       "      <th>rating</th>\n",
       "      <th>timestamp</th>\n",
       "      <th>movie title</th>\n",
       "      <th>release date</th>\n",
       "      <th>video release date</th>\n",
       "      <th>IMDb URL</th>\n",
       "      <th>unknown</th>\n",
       "      <th>Action</th>\n",
       "      <th>...</th>\n",
       "      <th>Mystery</th>\n",
       "      <th>Romance</th>\n",
       "      <th>Sci-Fi</th>\n",
       "      <th>Thriller</th>\n",
       "      <th>War</th>\n",
       "      <th>Western</th>\n",
       "      <th>age</th>\n",
       "      <th>gender</th>\n",
       "      <th>occupation</th>\n",
       "      <th>zip code</th>\n",
       "    </tr>\n",
       "  </thead>\n",
       "  <tbody>\n",
       "    <tr>\n",
       "      <th>0</th>\n",
       "      <td>196</td>\n",
       "      <td>242</td>\n",
       "      <td>3</td>\n",
       "      <td>881250949</td>\n",
       "      <td>Kolya (1996)</td>\n",
       "      <td>24-Jan-1997</td>\n",
       "      <td>NaN</td>\n",
       "      <td>http://us.imdb.com/M/title-exact?Kolya%20(1996)</td>\n",
       "      <td>0</td>\n",
       "      <td>0</td>\n",
       "      <td>...</td>\n",
       "      <td>0</td>\n",
       "      <td>0</td>\n",
       "      <td>0</td>\n",
       "      <td>0</td>\n",
       "      <td>0</td>\n",
       "      <td>0</td>\n",
       "      <td>49</td>\n",
       "      <td>M</td>\n",
       "      <td>writer</td>\n",
       "      <td>55105</td>\n",
       "    </tr>\n",
       "    <tr>\n",
       "      <th>1</th>\n",
       "      <td>196</td>\n",
       "      <td>257</td>\n",
       "      <td>2</td>\n",
       "      <td>881251577</td>\n",
       "      <td>Men in Black (1997)</td>\n",
       "      <td>04-Jul-1997</td>\n",
       "      <td>NaN</td>\n",
       "      <td>http://us.imdb.com/M/title-exact?Men+in+Black+...</td>\n",
       "      <td>0</td>\n",
       "      <td>1</td>\n",
       "      <td>...</td>\n",
       "      <td>0</td>\n",
       "      <td>0</td>\n",
       "      <td>1</td>\n",
       "      <td>0</td>\n",
       "      <td>0</td>\n",
       "      <td>0</td>\n",
       "      <td>49</td>\n",
       "      <td>M</td>\n",
       "      <td>writer</td>\n",
       "      <td>55105</td>\n",
       "    </tr>\n",
       "    <tr>\n",
       "      <th>2</th>\n",
       "      <td>196</td>\n",
       "      <td>111</td>\n",
       "      <td>4</td>\n",
       "      <td>881251793</td>\n",
       "      <td>Truth About Cats &amp; Dogs, The (1996)</td>\n",
       "      <td>26-Apr-1996</td>\n",
       "      <td>NaN</td>\n",
       "      <td>http://us.imdb.com/M/title-exact?Truth%20About...</td>\n",
       "      <td>0</td>\n",
       "      <td>0</td>\n",
       "      <td>...</td>\n",
       "      <td>0</td>\n",
       "      <td>1</td>\n",
       "      <td>0</td>\n",
       "      <td>0</td>\n",
       "      <td>0</td>\n",
       "      <td>0</td>\n",
       "      <td>49</td>\n",
       "      <td>M</td>\n",
       "      <td>writer</td>\n",
       "      <td>55105</td>\n",
       "    </tr>\n",
       "    <tr>\n",
       "      <th>3</th>\n",
       "      <td>196</td>\n",
       "      <td>25</td>\n",
       "      <td>4</td>\n",
       "      <td>881251955</td>\n",
       "      <td>Birdcage, The (1996)</td>\n",
       "      <td>08-Mar-1996</td>\n",
       "      <td>NaN</td>\n",
       "      <td>http://us.imdb.com/M/title-exact?Birdcage,%20T...</td>\n",
       "      <td>0</td>\n",
       "      <td>0</td>\n",
       "      <td>...</td>\n",
       "      <td>0</td>\n",
       "      <td>0</td>\n",
       "      <td>0</td>\n",
       "      <td>0</td>\n",
       "      <td>0</td>\n",
       "      <td>0</td>\n",
       "      <td>49</td>\n",
       "      <td>M</td>\n",
       "      <td>writer</td>\n",
       "      <td>55105</td>\n",
       "    </tr>\n",
       "    <tr>\n",
       "      <th>4</th>\n",
       "      <td>196</td>\n",
       "      <td>382</td>\n",
       "      <td>4</td>\n",
       "      <td>881251843</td>\n",
       "      <td>Adventures of Priscilla, Queen of the Desert, ...</td>\n",
       "      <td>01-Jan-1994</td>\n",
       "      <td>NaN</td>\n",
       "      <td>http://us.imdb.com/M/title-exact?Adventures%20...</td>\n",
       "      <td>0</td>\n",
       "      <td>0</td>\n",
       "      <td>...</td>\n",
       "      <td>0</td>\n",
       "      <td>0</td>\n",
       "      <td>0</td>\n",
       "      <td>0</td>\n",
       "      <td>0</td>\n",
       "      <td>0</td>\n",
       "      <td>49</td>\n",
       "      <td>M</td>\n",
       "      <td>writer</td>\n",
       "      <td>55105</td>\n",
       "    </tr>\n",
       "    <tr>\n",
       "      <th>...</th>\n",
       "      <td>...</td>\n",
       "      <td>...</td>\n",
       "      <td>...</td>\n",
       "      <td>...</td>\n",
       "      <td>...</td>\n",
       "      <td>...</td>\n",
       "      <td>...</td>\n",
       "      <td>...</td>\n",
       "      <td>...</td>\n",
       "      <td>...</td>\n",
       "      <td>...</td>\n",
       "      <td>...</td>\n",
       "      <td>...</td>\n",
       "      <td>...</td>\n",
       "      <td>...</td>\n",
       "      <td>...</td>\n",
       "      <td>...</td>\n",
       "      <td>...</td>\n",
       "      <td>...</td>\n",
       "      <td>...</td>\n",
       "      <td>...</td>\n",
       "    </tr>\n",
       "    <tr>\n",
       "      <th>99995</th>\n",
       "      <td>873</td>\n",
       "      <td>313</td>\n",
       "      <td>5</td>\n",
       "      <td>891392177</td>\n",
       "      <td>Titanic (1997)</td>\n",
       "      <td>01-Jan-1997</td>\n",
       "      <td>NaN</td>\n",
       "      <td>http://us.imdb.com/M/title-exact?imdb-title-12...</td>\n",
       "      <td>0</td>\n",
       "      <td>1</td>\n",
       "      <td>...</td>\n",
       "      <td>0</td>\n",
       "      <td>1</td>\n",
       "      <td>0</td>\n",
       "      <td>0</td>\n",
       "      <td>0</td>\n",
       "      <td>0</td>\n",
       "      <td>48</td>\n",
       "      <td>F</td>\n",
       "      <td>administrator</td>\n",
       "      <td>33763</td>\n",
       "    </tr>\n",
       "    <tr>\n",
       "      <th>99996</th>\n",
       "      <td>873</td>\n",
       "      <td>326</td>\n",
       "      <td>4</td>\n",
       "      <td>891392656</td>\n",
       "      <td>G.I. Jane (1997)</td>\n",
       "      <td>01-Jan-1997</td>\n",
       "      <td>NaN</td>\n",
       "      <td>http://us.imdb.com/M/title-exact?G%2EI%2E+Jane...</td>\n",
       "      <td>0</td>\n",
       "      <td>1</td>\n",
       "      <td>...</td>\n",
       "      <td>0</td>\n",
       "      <td>0</td>\n",
       "      <td>0</td>\n",
       "      <td>0</td>\n",
       "      <td>1</td>\n",
       "      <td>0</td>\n",
       "      <td>48</td>\n",
       "      <td>F</td>\n",
       "      <td>administrator</td>\n",
       "      <td>33763</td>\n",
       "    </tr>\n",
       "    <tr>\n",
       "      <th>99997</th>\n",
       "      <td>873</td>\n",
       "      <td>348</td>\n",
       "      <td>3</td>\n",
       "      <td>891392577</td>\n",
       "      <td>Desperate Measures (1998)</td>\n",
       "      <td>30-Jan-1998</td>\n",
       "      <td>NaN</td>\n",
       "      <td>http://us.imdb.com/Title?Desperate+Measures+(1...</td>\n",
       "      <td>0</td>\n",
       "      <td>0</td>\n",
       "      <td>...</td>\n",
       "      <td>0</td>\n",
       "      <td>0</td>\n",
       "      <td>0</td>\n",
       "      <td>1</td>\n",
       "      <td>0</td>\n",
       "      <td>0</td>\n",
       "      <td>48</td>\n",
       "      <td>F</td>\n",
       "      <td>administrator</td>\n",
       "      <td>33763</td>\n",
       "    </tr>\n",
       "    <tr>\n",
       "      <th>99998</th>\n",
       "      <td>873</td>\n",
       "      <td>358</td>\n",
       "      <td>2</td>\n",
       "      <td>891392698</td>\n",
       "      <td>Spawn (1997)</td>\n",
       "      <td>01-Aug-1997</td>\n",
       "      <td>NaN</td>\n",
       "      <td>http://us.imdb.com/M/title-exact?Spawn+(1997/I)</td>\n",
       "      <td>0</td>\n",
       "      <td>1</td>\n",
       "      <td>...</td>\n",
       "      <td>0</td>\n",
       "      <td>0</td>\n",
       "      <td>1</td>\n",
       "      <td>1</td>\n",
       "      <td>0</td>\n",
       "      <td>0</td>\n",
       "      <td>48</td>\n",
       "      <td>F</td>\n",
       "      <td>administrator</td>\n",
       "      <td>33763</td>\n",
       "    </tr>\n",
       "    <tr>\n",
       "      <th>99999</th>\n",
       "      <td>873</td>\n",
       "      <td>342</td>\n",
       "      <td>4</td>\n",
       "      <td>891392698</td>\n",
       "      <td>Man Who Knew Too Little, The (1997)</td>\n",
       "      <td>01-Jan-1997</td>\n",
       "      <td>NaN</td>\n",
       "      <td>http://us.imdb.com/M/title-exact?Man+Who+Knew+...</td>\n",
       "      <td>0</td>\n",
       "      <td>0</td>\n",
       "      <td>...</td>\n",
       "      <td>1</td>\n",
       "      <td>0</td>\n",
       "      <td>0</td>\n",
       "      <td>0</td>\n",
       "      <td>0</td>\n",
       "      <td>0</td>\n",
       "      <td>48</td>\n",
       "      <td>F</td>\n",
       "      <td>administrator</td>\n",
       "      <td>33763</td>\n",
       "    </tr>\n",
       "  </tbody>\n",
       "</table>\n",
       "<p>100000 rows × 31 columns</p>\n",
       "</div>"
      ],
      "text/plain": [
       "       user id  movie id  rating  timestamp  \\\n",
       "0          196       242       3  881250949   \n",
       "1          196       257       2  881251577   \n",
       "2          196       111       4  881251793   \n",
       "3          196        25       4  881251955   \n",
       "4          196       382       4  881251843   \n",
       "...        ...       ...     ...        ...   \n",
       "99995      873       313       5  891392177   \n",
       "99996      873       326       4  891392656   \n",
       "99997      873       348       3  891392577   \n",
       "99998      873       358       2  891392698   \n",
       "99999      873       342       4  891392698   \n",
       "\n",
       "                                             movie title release date  \\\n",
       "0                                           Kolya (1996)  24-Jan-1997   \n",
       "1                                    Men in Black (1997)  04-Jul-1997   \n",
       "2                    Truth About Cats & Dogs, The (1996)  26-Apr-1996   \n",
       "3                                   Birdcage, The (1996)  08-Mar-1996   \n",
       "4      Adventures of Priscilla, Queen of the Desert, ...  01-Jan-1994   \n",
       "...                                                  ...          ...   \n",
       "99995                                     Titanic (1997)  01-Jan-1997   \n",
       "99996                                   G.I. Jane (1997)  01-Jan-1997   \n",
       "99997                          Desperate Measures (1998)  30-Jan-1998   \n",
       "99998                                       Spawn (1997)  01-Aug-1997   \n",
       "99999                Man Who Knew Too Little, The (1997)  01-Jan-1997   \n",
       "\n",
       "       video release date                                           IMDb URL  \\\n",
       "0                     NaN    http://us.imdb.com/M/title-exact?Kolya%20(1996)   \n",
       "1                     NaN  http://us.imdb.com/M/title-exact?Men+in+Black+...   \n",
       "2                     NaN  http://us.imdb.com/M/title-exact?Truth%20About...   \n",
       "3                     NaN  http://us.imdb.com/M/title-exact?Birdcage,%20T...   \n",
       "4                     NaN  http://us.imdb.com/M/title-exact?Adventures%20...   \n",
       "...                   ...                                                ...   \n",
       "99995                 NaN  http://us.imdb.com/M/title-exact?imdb-title-12...   \n",
       "99996                 NaN  http://us.imdb.com/M/title-exact?G%2EI%2E+Jane...   \n",
       "99997                 NaN  http://us.imdb.com/Title?Desperate+Measures+(1...   \n",
       "99998                 NaN    http://us.imdb.com/M/title-exact?Spawn+(1997/I)   \n",
       "99999                 NaN  http://us.imdb.com/M/title-exact?Man+Who+Knew+...   \n",
       "\n",
       "       unknown  Action  ...  Mystery  Romance  Sci-Fi  Thriller  War  Western  \\\n",
       "0            0       0  ...        0        0       0         0    0        0   \n",
       "1            0       1  ...        0        0       1         0    0        0   \n",
       "2            0       0  ...        0        1       0         0    0        0   \n",
       "3            0       0  ...        0        0       0         0    0        0   \n",
       "4            0       0  ...        0        0       0         0    0        0   \n",
       "...        ...     ...  ...      ...      ...     ...       ...  ...      ...   \n",
       "99995        0       1  ...        0        1       0         0    0        0   \n",
       "99996        0       1  ...        0        0       0         0    1        0   \n",
       "99997        0       0  ...        0        0       0         1    0        0   \n",
       "99998        0       1  ...        0        0       1         1    0        0   \n",
       "99999        0       0  ...        1        0       0         0    0        0   \n",
       "\n",
       "       age  gender     occupation  zip code  \n",
       "0       49       M         writer     55105  \n",
       "1       49       M         writer     55105  \n",
       "2       49       M         writer     55105  \n",
       "3       49       M         writer     55105  \n",
       "4       49       M         writer     55105  \n",
       "...    ...     ...            ...       ...  \n",
       "99995   48       F  administrator     33763  \n",
       "99996   48       F  administrator     33763  \n",
       "99997   48       F  administrator     33763  \n",
       "99998   48       F  administrator     33763  \n",
       "99999   48       F  administrator     33763  \n",
       "\n",
       "[100000 rows x 31 columns]"
      ]
     },
     "execution_count": 3,
     "metadata": {},
     "output_type": "execute_result"
    }
   ],
   "source": [
    "data_df.rename(columns={\"item id\": \"movie id\"},inplace=True)\n",
    "full_df = pd.merge(data_df,item_df,how=\"outer\")\n",
    "full_df = pd.merge(full_df,user_df,how=\"outer\")\n",
    "full_df"
   ]
  },
  {
   "cell_type": "markdown",
   "metadata": {},
   "source": [
    "Q1: Print names of the films with most reviews, sorted alphabetically."
   ]
  },
  {
   "cell_type": "code",
   "execution_count": 4,
   "metadata": {},
   "outputs": [
    {
     "name": "stdout",
     "output_type": "stream",
     "text": [
      "Movies with the most reviews. Alphabetical;\n",
      "Air Force One (1997)\n",
      "Contact (1997)\n",
      "English Patient, The (1996)\n",
      "Fargo (1996)\n",
      "Independence Day (ID4) (1996)\n",
      "Liar Liar (1997)\n",
      "Return of the Jedi (1983)\n",
      "Scream (1996)\n",
      "Star Wars (1977)\n",
      "Toy Story (1995)\n"
     ]
    }
   ],
   "source": [
    "print(\"Movies with the most reviews. Alphabetical;\")\n",
    "top_ten = full_df[\"movie title\"].value_counts(sort=True)[:10]\n",
    "print(*top_ten.sort_index(axis=0).index.values,sep='\\n')"
   ]
  },
  {
   "cell_type": "markdown",
   "metadata": {},
   "source": [
    "Q2: Print names of the films with most reviews, sorted by number of reviews.\n"
   ]
  },
  {
   "cell_type": "code",
   "execution_count": 5,
   "metadata": {},
   "outputs": [
    {
     "name": "stdout",
     "output_type": "stream",
     "text": [
      "\n",
      "Movies with the most reviews. Sorted by number of reviews, descending;\n",
      "Star Wars (1977)\n",
      "Contact (1997)\n",
      "Fargo (1996)\n",
      "Return of the Jedi (1983)\n",
      "Liar Liar (1997)\n",
      "English Patient, The (1996)\n",
      "Scream (1996)\n",
      "Toy Story (1995)\n",
      "Air Force One (1997)\n",
      "Independence Day (ID4) (1996)\n"
     ]
    }
   ],
   "source": [
    "print(\"\\nMovies with the most reviews. Sorted by number of reviews, descending;\")\n",
    "print(*top_ten.index.values,sep='\\n')"
   ]
  },
  {
   "cell_type": "markdown",
   "metadata": {},
   "source": [
    "Q3: Print list of the number of rating by genre"
   ]
  },
  {
   "cell_type": "code",
   "execution_count": 6,
   "metadata": {},
   "outputs": [
    {
     "name": "stdout",
     "output_type": "stream",
     "text": [
      "\n",
      "Genres with the most reviews;\n",
      "     unknown     10\n",
      "      Action  25589\n",
      "   Adventure  13753\n",
      "   Animation   3605\n",
      "  Children's   7182\n",
      "      Comedy  29832\n",
      "       Crime   8055\n",
      " Documentary    758\n",
      "       Drama  39895\n",
      "     Fantasy   1352\n",
      "   Film-Noir   1733\n",
      "      Horror   5317\n",
      "     Musical   4954\n",
      "     Mystery   5245\n",
      "     Romance  19461\n",
      "      Sci-Fi  12730\n",
      "    Thriller  21872\n",
      "         War   9398\n",
      "     Western   1854\n"
     ]
    }
   ],
   "source": [
    "print(\"\\nGenres with the most reviews;\")\n",
    "print(full_df.loc[:,'unknown':'Western'].sum().reset_index().to_string(header=None, index=None))\n"
   ]
  },
  {
   "cell_type": "markdown",
   "metadata": {},
   "source": [
    "Q4: print oldest movie with a 5 rating."
   ]
  },
  {
   "cell_type": "code",
   "execution_count": 7,
   "metadata": {},
   "outputs": [
    {
     "name": "stdout",
     "output_type": "stream",
     "text": [
      "\n",
      "Oldest movie with a 5 rating;\n",
      "Nosferatu (Nosferatu, eine Symphonie des Grauens) (1922)\n"
     ]
    }
   ],
   "source": [
    "pd.options.mode.chained_assignment = None \n",
    "print(\"\\nOldest movie with a 5 rating;\")\n",
    "five_df = full_df.loc[full_df['rating'] == 5]\n",
    "five_df[\"release date\"] = pd.to_datetime(five_df[\"release date\"])\n",
    "print(*five_df.loc[five_df[\"release date\"] == five_df[\"release date\"].min()][\"movie title\"].drop_duplicates().values,sep='\\n')\n"
   ]
  },
  {
   "cell_type": "markdown",
   "metadata": {},
   "source": [
    "Q5: Print a list of the genre of the top 10 most rated movies. "
   ]
  },
  {
   "cell_type": "code",
   "execution_count": 8,
   "metadata": {},
   "outputs": [
    {
     "name": "stdout",
     "output_type": "stream",
     "text": [
      "\n",
      "Genres of the top ten most rated movies;\n",
      "              Toy Story (1995)          Animation,Children's,Comedy\n",
      "              Star Wars (1977)  Action,Adventure,Romance,Sci-Fi,War\n",
      "                  Fargo (1996)                 Crime,Drama,Thriller\n",
      " Independence Day (ID4) (1996)                    Action,Sci-Fi,War\n",
      "     Return of the Jedi (1983)  Action,Adventure,Romance,Sci-Fi,War\n",
      "                Contact (1997)                         Drama,Sci-Fi\n",
      "   English Patient, The (1996)                    Drama,Romance,War\n",
      "                 Scream (1996)                      Horror,Thriller\n",
      "              Liar Liar (1997)                               Comedy\n",
      "          Air Force One (1997)                      Action,Thriller\n"
     ]
    }
   ],
   "source": [
    "top_ten_info_df = item_df[item_df[\"movie title\"].isin(top_ten.index)]\n",
    "top_ten_info_df[\"genre list\"] = top_ten_info_df.loc[:,'unknown':'Western'].astype(int).dot(top_ten_info_df.loc[:,'unknown':'Western'].columns+',').str[:-1]\n",
    "pd.options.mode.chained_assignment = 'warn'\n",
    "top_ten_info_df = top_ten_info_df[[\"movie title\",\"genre list\"]]\n",
    "print(\"\\nGenres of the top ten most rated movies;\")\n",
    "print(top_ten_info_df.to_string(header=None, index=None))"
   ]
  },
  {
   "cell_type": "markdown",
   "metadata": {},
   "source": [
    "Q6: Print the title of the movie that was rated the most by students "
   ]
  },
  {
   "cell_type": "code",
   "execution_count": 9,
   "metadata": {},
   "outputs": [
    {
     "name": "stdout",
     "output_type": "stream",
     "text": [
      "\n",
      "Movie with most ratings;\n",
      "Star Wars (1977)\n"
     ]
    }
   ],
   "source": [
    "print(\"\\nMovie with most ratings;\")\n",
    "print(*top_ten[:1].sort_index(axis=0).index.values,sep='\\n')"
   ]
  },
  {
   "cell_type": "markdown",
   "metadata": {},
   "source": [
    "Q7: Print the list of movies that received the highest number of “5” rating \n"
   ]
  },
  {
   "cell_type": "code",
   "execution_count": 10,
   "metadata": {},
   "outputs": [
    {
     "name": "stdout",
     "output_type": "stream",
     "text": [
      "\n",
      "Ten movies with the most 5 ratings;\n",
      "Star Wars (1977)\n",
      "Fargo (1996)\n",
      "Godfather, The (1972)\n",
      "Raiders of the Lost Ark (1981)\n",
      "Pulp Fiction (1994)\n",
      "Schindler's List (1993)\n",
      "Silence of the Lambs, The (1991)\n",
      "Titanic (1997)\n",
      "Empire Strikes Back, The (1980)\n",
      "Return of the Jedi (1983)\n"
     ]
    }
   ],
   "source": [
    "print(\"\\nTen movies with the most 5 ratings;\")\n",
    "print(*five_df[\"movie title\"].value_counts(sort=True)[:10].index.values,sep='\\n')\n"
   ]
  },
  {
   "cell_type": "markdown",
   "metadata": {},
   "source": [
    "Q8: Print the list of zip codes corresponding to the highest number of users that rated movies. \n"
   ]
  },
  {
   "cell_type": "code",
   "execution_count": 11,
   "metadata": {},
   "outputs": [
    {
     "name": "stdout",
     "output_type": "stream",
     "text": [
      "\n",
      "Ten zip codes with the most ratings;\n",
      " 55414  9\n",
      " 55105  6\n",
      " 10003  5\n",
      " 55337  5\n",
      " 20009  5\n",
      " 27514  4\n",
      " 55408  4\n",
      " 55454  4\n",
      " 22903  3\n",
      " 55113  3\n"
     ]
    }
   ],
   "source": [
    "print(\"\\nTen zip codes with the most ratings;\")\n",
    "print(user_df[\"zip code\"].value_counts(sort=True)[:10].reset_index().to_string(header=None, index=None))\n"
   ]
  },
  {
   "cell_type": "markdown",
   "metadata": {},
   "source": [
    "Q9: Find the most rated movie by users in the age group 20 to 25.\n"
   ]
  },
  {
   "cell_type": "code",
   "execution_count": 12,
   "metadata": {},
   "outputs": [
    {
     "name": "stdout",
     "output_type": "stream",
     "text": [
      "\n",
      "Most rated movie by users between 20 and 25;\n",
      "Scream (1996)\n"
     ]
    }
   ],
   "source": [
    "print(\"\\nMost rated movie by users between 20 and 25;\")\n",
    "print(*full_df.loc[(full_df['age'] <= 25) & (full_df['age'] >= 20)][\"movie title\"].value_counts(sort=True)[:1].index.values,sep=\"\\n\")\n"
   ]
  },
  {
   "cell_type": "markdown",
   "metadata": {},
   "source": [
    "Q10: Print the list of movies that were rate after year 1960. \n"
   ]
  },
  {
   "cell_type": "code",
   "execution_count": 13,
   "metadata": {},
   "outputs": [
    {
     "name": "stdout",
     "output_type": "stream",
     "text": [
      "\n",
      "Movies rated after 1960;\n"
     ]
    },
    {
     "data": {
      "text/plain": [
       "0                                             Kolya (1996)\n",
       "1                                      Men in Black (1997)\n",
       "2                      Truth About Cats & Dogs, The (1996)\n",
       "3                                     Birdcage, The (1996)\n",
       "4        Adventures of Priscilla, Queen of the Desert, ...\n",
       "                               ...                        \n",
       "99995                                       Titanic (1997)\n",
       "99996                                     G.I. Jane (1997)\n",
       "99997                            Desperate Measures (1998)\n",
       "99998                                         Spawn (1997)\n",
       "99999                  Man Who Knew Too Little, The (1997)\n",
       "Name: movie title, Length: 100000, dtype: object"
      ]
     },
     "execution_count": 13,
     "metadata": {},
     "output_type": "execute_result"
    }
   ],
   "source": [
    "print(\"\\nMovies rated after 1960;\")\n",
    "cutoff = datetime.timestamp(datetime(1961,1,1))\n",
    "after60s_df = full_df.loc[full_df[\"timestamp\"] >= cutoff][\"movie title\"]\n",
    "after60s_df"
   ]
  },
  {
   "cell_type": "markdown",
   "metadata": {},
   "source": [
    "Bonus: Convert UnixTimeStamp in  timestamp column of u.data to human readable date \n"
   ]
  },
  {
   "cell_type": "code",
   "execution_count": 14,
   "metadata": {},
   "outputs": [
    {
     "name": "stdout",
     "output_type": "stream",
     "text": [
      "\n",
      "Convert Unix timestamp to datetime;\n"
     ]
    },
    {
     "data": {
      "text/plain": [
       "0       1997-12-04 15:55:49\n",
       "1       1997-12-04 16:06:17\n",
       "2       1997-12-04 16:09:53\n",
       "3       1997-12-04 16:12:35\n",
       "4       1997-12-04 16:10:43\n",
       "                ...        \n",
       "99995   1998-04-01 00:56:17\n",
       "99996   1998-04-01 01:04:16\n",
       "99997   1998-04-01 01:02:57\n",
       "99998   1998-04-01 01:04:58\n",
       "99999   1998-04-01 01:04:58\n",
       "Name: timestamp, Length: 100000, dtype: datetime64[ns]"
      ]
     },
     "execution_count": 14,
     "metadata": {},
     "output_type": "execute_result"
    }
   ],
   "source": [
    "print(\"\\nConvert Unix timestamp to datetime;\")\n",
    "date_format_df = pd.to_datetime(full_df[\"timestamp\"],unit='s')\n",
    "date_format_df"
   ]
  },
  {
   "cell_type": "code",
   "execution_count": null,
   "metadata": {},
   "outputs": [],
   "source": []
  }
 ],
 "metadata": {
  "kernelspec": {
   "display_name": "Python 3",
   "language": "python",
   "name": "python3"
  },
  "language_info": {
   "codemirror_mode": {
    "name": "ipython",
    "version": 3
   },
   "file_extension": ".py",
   "mimetype": "text/x-python",
   "name": "python",
   "nbconvert_exporter": "python",
   "pygments_lexer": "ipython3",
   "version": "3.6.9"
  }
 },
 "nbformat": 4,
 "nbformat_minor": 4
}
