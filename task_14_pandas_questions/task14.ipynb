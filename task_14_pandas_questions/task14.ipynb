{
 "cells": [
  {
   "cell_type": "code",
   "execution_count": 6,
   "metadata": {},
   "outputs": [
    {
     "name": "stdout",
     "output_type": "stream",
     "text": [
      "please the first point latitude: 3\n",
      "please the first point longitude: 4\n",
      "please the second point latitude: 5\n",
      "please the second point longitude: 6\n",
      "The distance between these points is 2.8284271247461903\n"
     ]
    }
   ],
   "source": [
    "#Q1\n",
    "from math import sqrt\n",
    "\n",
    "\n",
    "lat1 = float(input(\"please the first point latitude: \"))\n",
    "lon1 = float(input(\"please the first point longitude: \"))\n",
    "lat2 = float(input(\"please the second point latitude: \"))\n",
    "lon2 = float(input(\"please the second point longitude: \"))\n",
    "    \n",
    "dist = sqrt((abs(lat1-lat2)**2)+(abs(lon1-lon2)**2))\n",
    "print(\"The distance between these points is \" + str(dist))"
   ]
  },
  {
   "cell_type": "code",
   "execution_count": 8,
   "metadata": {},
   "outputs": [
    {
     "name": "stdout",
     "output_type": "stream",
     "text": [
      "The standard deviation is 2.23606797749979\n"
     ]
    }
   ],
   "source": [
    "#Q2\n",
    "from statistics import stdev\n",
    "\n",
    "data = [4, 2, 5, 8, 6]\n",
    "stdev1 = stdev(data)\n",
    "\n",
    "print(\"The standard deviation is \" + str(stdev1))"
   ]
  },
  {
   "cell_type": "code",
   "execution_count": 10,
   "metadata": {},
   "outputs": [
    {
     "data": {
      "text/html": [
       "<style  type=\"text/css\" >\n",
       "    #T_7563be5a_b157_11ea_9d22_080027cf0b59row0_col0 {\n",
       "            color:  red;\n",
       "        }    #T_7563be5a_b157_11ea_9d22_080027cf0b59row0_col1 {\n",
       "            color:  black;\n",
       "        }    #T_7563be5a_b157_11ea_9d22_080027cf0b59row0_col2 {\n",
       "            color:  red;\n",
       "        }    #T_7563be5a_b157_11ea_9d22_080027cf0b59row0_col3 {\n",
       "            color:  red;\n",
       "        }    #T_7563be5a_b157_11ea_9d22_080027cf0b59row1_col0 {\n",
       "            color:  black;\n",
       "        }    #T_7563be5a_b157_11ea_9d22_080027cf0b59row1_col1 {\n",
       "            color:  red;\n",
       "        }    #T_7563be5a_b157_11ea_9d22_080027cf0b59row1_col2 {\n",
       "            color:  black;\n",
       "        }    #T_7563be5a_b157_11ea_9d22_080027cf0b59row1_col3 {\n",
       "            color:  red;\n",
       "        }    #T_7563be5a_b157_11ea_9d22_080027cf0b59row2_col0 {\n",
       "            color:  red;\n",
       "        }    #T_7563be5a_b157_11ea_9d22_080027cf0b59row2_col1 {\n",
       "            color:  red;\n",
       "        }    #T_7563be5a_b157_11ea_9d22_080027cf0b59row2_col2 {\n",
       "            color:  red;\n",
       "        }    #T_7563be5a_b157_11ea_9d22_080027cf0b59row2_col3 {\n",
       "            color:  red;\n",
       "        }    #T_7563be5a_b157_11ea_9d22_080027cf0b59row3_col0 {\n",
       "            color:  black;\n",
       "        }    #T_7563be5a_b157_11ea_9d22_080027cf0b59row3_col1 {\n",
       "            color:  red;\n",
       "        }    #T_7563be5a_b157_11ea_9d22_080027cf0b59row3_col2 {\n",
       "            color:  red;\n",
       "        }    #T_7563be5a_b157_11ea_9d22_080027cf0b59row3_col3 {\n",
       "            color:  red;\n",
       "        }    #T_7563be5a_b157_11ea_9d22_080027cf0b59row4_col0 {\n",
       "            color:  black;\n",
       "        }    #T_7563be5a_b157_11ea_9d22_080027cf0b59row4_col1 {\n",
       "            color:  black;\n",
       "        }    #T_7563be5a_b157_11ea_9d22_080027cf0b59row4_col2 {\n",
       "            color:  black;\n",
       "        }    #T_7563be5a_b157_11ea_9d22_080027cf0b59row4_col3 {\n",
       "            color:  red;\n",
       "        }    #T_7563be5a_b157_11ea_9d22_080027cf0b59row5_col0 {\n",
       "            color:  red;\n",
       "        }    #T_7563be5a_b157_11ea_9d22_080027cf0b59row5_col1 {\n",
       "            color:  red;\n",
       "        }    #T_7563be5a_b157_11ea_9d22_080027cf0b59row5_col2 {\n",
       "            color:  black;\n",
       "        }    #T_7563be5a_b157_11ea_9d22_080027cf0b59row5_col3 {\n",
       "            color:  red;\n",
       "        }    #T_7563be5a_b157_11ea_9d22_080027cf0b59row6_col0 {\n",
       "            color:  red;\n",
       "        }    #T_7563be5a_b157_11ea_9d22_080027cf0b59row6_col1 {\n",
       "            color:  black;\n",
       "        }    #T_7563be5a_b157_11ea_9d22_080027cf0b59row6_col2 {\n",
       "            color:  black;\n",
       "        }    #T_7563be5a_b157_11ea_9d22_080027cf0b59row6_col3 {\n",
       "            color:  black;\n",
       "        }    #T_7563be5a_b157_11ea_9d22_080027cf0b59row7_col0 {\n",
       "            color:  black;\n",
       "        }    #T_7563be5a_b157_11ea_9d22_080027cf0b59row7_col1 {\n",
       "            color:  red;\n",
       "        }    #T_7563be5a_b157_11ea_9d22_080027cf0b59row7_col2 {\n",
       "            color:  red;\n",
       "        }    #T_7563be5a_b157_11ea_9d22_080027cf0b59row7_col3 {\n",
       "            color:  red;\n",
       "        }    #T_7563be5a_b157_11ea_9d22_080027cf0b59row8_col0 {\n",
       "            color:  red;\n",
       "        }    #T_7563be5a_b157_11ea_9d22_080027cf0b59row8_col1 {\n",
       "            color:  black;\n",
       "        }    #T_7563be5a_b157_11ea_9d22_080027cf0b59row8_col2 {\n",
       "            color:  red;\n",
       "        }    #T_7563be5a_b157_11ea_9d22_080027cf0b59row8_col3 {\n",
       "            color:  red;\n",
       "        }    #T_7563be5a_b157_11ea_9d22_080027cf0b59row9_col0 {\n",
       "            color:  red;\n",
       "        }    #T_7563be5a_b157_11ea_9d22_080027cf0b59row9_col1 {\n",
       "            color:  black;\n",
       "        }    #T_7563be5a_b157_11ea_9d22_080027cf0b59row9_col2 {\n",
       "            color:  red;\n",
       "        }    #T_7563be5a_b157_11ea_9d22_080027cf0b59row9_col3 {\n",
       "            color:  red;\n",
       "        }</style><table id=\"T_7563be5a_b157_11ea_9d22_080027cf0b59\" ><thead>    <tr>        <th class=\"blank level0\" ></th>        <th class=\"col_heading level0 col0\" >0</th>        <th class=\"col_heading level0 col1\" >1</th>        <th class=\"col_heading level0 col2\" >2</th>        <th class=\"col_heading level0 col3\" >3</th>    </tr></thead><tbody>\n",
       "                <tr>\n",
       "                        <th id=\"T_7563be5a_b157_11ea_9d22_080027cf0b59level0_row0\" class=\"row_heading level0 row0\" >0</th>\n",
       "                        <td id=\"T_7563be5a_b157_11ea_9d22_080027cf0b59row0_col0\" class=\"data row0 col0\" >-82</td>\n",
       "                        <td id=\"T_7563be5a_b157_11ea_9d22_080027cf0b59row0_col1\" class=\"data row0 col1\" >26</td>\n",
       "                        <td id=\"T_7563be5a_b157_11ea_9d22_080027cf0b59row0_col2\" class=\"data row0 col2\" >-79</td>\n",
       "                        <td id=\"T_7563be5a_b157_11ea_9d22_080027cf0b59row0_col3\" class=\"data row0 col3\" >-22</td>\n",
       "            </tr>\n",
       "            <tr>\n",
       "                        <th id=\"T_7563be5a_b157_11ea_9d22_080027cf0b59level0_row1\" class=\"row_heading level0 row1\" >1</th>\n",
       "                        <td id=\"T_7563be5a_b157_11ea_9d22_080027cf0b59row1_col0\" class=\"data row1 col0\" >26</td>\n",
       "                        <td id=\"T_7563be5a_b157_11ea_9d22_080027cf0b59row1_col1\" class=\"data row1 col1\" >-75</td>\n",
       "                        <td id=\"T_7563be5a_b157_11ea_9d22_080027cf0b59row1_col2\" class=\"data row1 col2\" >45</td>\n",
       "                        <td id=\"T_7563be5a_b157_11ea_9d22_080027cf0b59row1_col3\" class=\"data row1 col3\" >-31</td>\n",
       "            </tr>\n",
       "            <tr>\n",
       "                        <th id=\"T_7563be5a_b157_11ea_9d22_080027cf0b59level0_row2\" class=\"row_heading level0 row2\" >2</th>\n",
       "                        <td id=\"T_7563be5a_b157_11ea_9d22_080027cf0b59row2_col0\" class=\"data row2 col0\" >-19</td>\n",
       "                        <td id=\"T_7563be5a_b157_11ea_9d22_080027cf0b59row2_col1\" class=\"data row2 col1\" >-12</td>\n",
       "                        <td id=\"T_7563be5a_b157_11ea_9d22_080027cf0b59row2_col2\" class=\"data row2 col2\" >-65</td>\n",
       "                        <td id=\"T_7563be5a_b157_11ea_9d22_080027cf0b59row2_col3\" class=\"data row2 col3\" >-23</td>\n",
       "            </tr>\n",
       "            <tr>\n",
       "                        <th id=\"T_7563be5a_b157_11ea_9d22_080027cf0b59level0_row3\" class=\"row_heading level0 row3\" >3</th>\n",
       "                        <td id=\"T_7563be5a_b157_11ea_9d22_080027cf0b59row3_col0\" class=\"data row3 col0\" >48</td>\n",
       "                        <td id=\"T_7563be5a_b157_11ea_9d22_080027cf0b59row3_col1\" class=\"data row3 col1\" >-59</td>\n",
       "                        <td id=\"T_7563be5a_b157_11ea_9d22_080027cf0b59row3_col2\" class=\"data row3 col2\" >-78</td>\n",
       "                        <td id=\"T_7563be5a_b157_11ea_9d22_080027cf0b59row3_col3\" class=\"data row3 col3\" >-32</td>\n",
       "            </tr>\n",
       "            <tr>\n",
       "                        <th id=\"T_7563be5a_b157_11ea_9d22_080027cf0b59level0_row4\" class=\"row_heading level0 row4\" >4</th>\n",
       "                        <td id=\"T_7563be5a_b157_11ea_9d22_080027cf0b59row4_col0\" class=\"data row4 col0\" >10</td>\n",
       "                        <td id=\"T_7563be5a_b157_11ea_9d22_080027cf0b59row4_col1\" class=\"data row4 col1\" >18</td>\n",
       "                        <td id=\"T_7563be5a_b157_11ea_9d22_080027cf0b59row4_col2\" class=\"data row4 col2\" >76</td>\n",
       "                        <td id=\"T_7563be5a_b157_11ea_9d22_080027cf0b59row4_col3\" class=\"data row4 col3\" >-57</td>\n",
       "            </tr>\n",
       "            <tr>\n",
       "                        <th id=\"T_7563be5a_b157_11ea_9d22_080027cf0b59level0_row5\" class=\"row_heading level0 row5\" >5</th>\n",
       "                        <td id=\"T_7563be5a_b157_11ea_9d22_080027cf0b59row5_col0\" class=\"data row5 col0\" >-40</td>\n",
       "                        <td id=\"T_7563be5a_b157_11ea_9d22_080027cf0b59row5_col1\" class=\"data row5 col1\" >-41</td>\n",
       "                        <td id=\"T_7563be5a_b157_11ea_9d22_080027cf0b59row5_col2\" class=\"data row5 col2\" >73</td>\n",
       "                        <td id=\"T_7563be5a_b157_11ea_9d22_080027cf0b59row5_col3\" class=\"data row5 col3\" >-96</td>\n",
       "            </tr>\n",
       "            <tr>\n",
       "                        <th id=\"T_7563be5a_b157_11ea_9d22_080027cf0b59level0_row6\" class=\"row_heading level0 row6\" >6</th>\n",
       "                        <td id=\"T_7563be5a_b157_11ea_9d22_080027cf0b59row6_col0\" class=\"data row6 col0\" >-48</td>\n",
       "                        <td id=\"T_7563be5a_b157_11ea_9d22_080027cf0b59row6_col1\" class=\"data row6 col1\" >8</td>\n",
       "                        <td id=\"T_7563be5a_b157_11ea_9d22_080027cf0b59row6_col2\" class=\"data row6 col2\" >86</td>\n",
       "                        <td id=\"T_7563be5a_b157_11ea_9d22_080027cf0b59row6_col3\" class=\"data row6 col3\" >1</td>\n",
       "            </tr>\n",
       "            <tr>\n",
       "                        <th id=\"T_7563be5a_b157_11ea_9d22_080027cf0b59level0_row7\" class=\"row_heading level0 row7\" >7</th>\n",
       "                        <td id=\"T_7563be5a_b157_11ea_9d22_080027cf0b59row7_col0\" class=\"data row7 col0\" >53</td>\n",
       "                        <td id=\"T_7563be5a_b157_11ea_9d22_080027cf0b59row7_col1\" class=\"data row7 col1\" >-86</td>\n",
       "                        <td id=\"T_7563be5a_b157_11ea_9d22_080027cf0b59row7_col2\" class=\"data row7 col2\" >-6</td>\n",
       "                        <td id=\"T_7563be5a_b157_11ea_9d22_080027cf0b59row7_col3\" class=\"data row7 col3\" >-57</td>\n",
       "            </tr>\n",
       "            <tr>\n",
       "                        <th id=\"T_7563be5a_b157_11ea_9d22_080027cf0b59level0_row8\" class=\"row_heading level0 row8\" >8</th>\n",
       "                        <td id=\"T_7563be5a_b157_11ea_9d22_080027cf0b59row8_col0\" class=\"data row8 col0\" >-74</td>\n",
       "                        <td id=\"T_7563be5a_b157_11ea_9d22_080027cf0b59row8_col1\" class=\"data row8 col1\" >12</td>\n",
       "                        <td id=\"T_7563be5a_b157_11ea_9d22_080027cf0b59row8_col2\" class=\"data row8 col2\" >-37</td>\n",
       "                        <td id=\"T_7563be5a_b157_11ea_9d22_080027cf0b59row8_col3\" class=\"data row8 col3\" >-17</td>\n",
       "            </tr>\n",
       "            <tr>\n",
       "                        <th id=\"T_7563be5a_b157_11ea_9d22_080027cf0b59level0_row9\" class=\"row_heading level0 row9\" >9</th>\n",
       "                        <td id=\"T_7563be5a_b157_11ea_9d22_080027cf0b59row9_col0\" class=\"data row9 col0\" >-51</td>\n",
       "                        <td id=\"T_7563be5a_b157_11ea_9d22_080027cf0b59row9_col1\" class=\"data row9 col1\" >49</td>\n",
       "                        <td id=\"T_7563be5a_b157_11ea_9d22_080027cf0b59row9_col2\" class=\"data row9 col2\" >-9</td>\n",
       "                        <td id=\"T_7563be5a_b157_11ea_9d22_080027cf0b59row9_col3\" class=\"data row9 col3\" >-64</td>\n",
       "            </tr>\n",
       "    </tbody></table>"
      ],
      "text/plain": [
       "<pandas.io.formats.style.Styler at 0x7f9d8c233320>"
      ]
     },
     "execution_count": 10,
     "metadata": {},
     "output_type": "execute_result"
    }
   ],
   "source": [
    "#Q3\n",
    "import pandas as pd\n",
    "import numpy as np\n",
    "\n",
    "\n",
    "colour_df = pd.DataFrame(np.random.randint(-100,100,size=(10, 4)))\n",
    "colour_df.style.apply(lambda x: [\"color: red\" if v < 0 else \"color: black\" for v in x], axis = 1)\n"
   ]
  },
  {
   "cell_type": "code",
   "execution_count": 104,
   "metadata": {},
   "outputs": [
    {
     "name": "stdout",
     "output_type": "stream",
     "text": [
      "Date now: 2020-06-18 13:44:15.220795\n",
      "Oldest Sighting: 1906-11-11 00:00:00\n",
      "Difference between oldest sighting and now in days: 41493\n"
     ]
    }
   ],
   "source": [
    "#Q4\n",
    "from datetime import datetime\n",
    "\n",
    "ufo_df = pd.read_csv(\"./ufo_sighting_data.csv\")\n",
    "\n",
    "\n",
    "ufo_df['Date_time'] = pd.to_datetime(ufo_df['Date_time'],format='%d/%m/%Y %H:%M', errors=\"coerce\")\n",
    "\n",
    "oldest = ufo_df['Date_time'].min()\n",
    "now = datetime.now()\n",
    "delta = now - oldest\n",
    "\n",
    "print(\"Date now: \" + str(now))\n",
    "print(\"Oldest Sighting: \" + str(oldest))\n",
    "print(\"Difference between oldest sighting and now in days: \" + str(delta.days))"
   ]
  },
  {
   "cell_type": "code",
   "execution_count": 108,
   "metadata": {},
   "outputs": [
    {
     "name": "stdout",
     "output_type": "stream",
     "text": [
      "41671    2003\n",
      "Name: Date_time, dtype: int64\n",
      "41671    1\n",
      "Name: Date_time, dtype: int64\n",
      "41671    5\n",
      "Name: Date_time, dtype: int64\n",
      "41671    23\n",
      "Name: Date_time, dtype: int64\n",
      "41671    2\n",
      "Name: Date_time, dtype: int64\n",
      "41671    0\n",
      "Name: Date_time, dtype: int64\n",
      "41671    6\n",
      "Name: Date_time, dtype: int64\n"
     ]
    }
   ],
   "source": [
    "#Q5\n",
    "\n",
    "def dtExtract(datetimeobj):\n",
    "    print(str(datetimeobj.dt.year))\n",
    "    print(str(datetimeobj.dt.month))\n",
    "    print(str(datetimeobj.dt.day))\n",
    "    print(str(datetimeobj.dt.hour))\n",
    "    print(str(datetimeobj.dt.minute))\n",
    "    print(str(datetimeobj.dt.second))\n",
    "    print(str(datetimeobj.dt.weekday))\n",
    "    \n",
    "dtExtract(ufo_df['Date_time'].sample())"
   ]
  },
  {
   "cell_type": "code",
   "execution_count": 109,
   "metadata": {},
   "outputs": [
    {
     "data": {
      "text/plain": [
       "129"
      ]
     },
     "execution_count": 109,
     "metadata": {},
     "output_type": "execute_result"
    }
   ],
   "source": [
    "#Q6\n",
    "ufo_df[ufo_df==True].count().sum()"
   ]
  },
  {
   "cell_type": "code",
   "execution_count": null,
   "metadata": {},
   "outputs": [],
   "source": []
  },
  {
   "cell_type": "code",
   "execution_count": null,
   "metadata": {},
   "outputs": [],
   "source": []
  }
 ],
 "metadata": {
  "kernelspec": {
   "display_name": "Python 3",
   "language": "python",
   "name": "python3"
  },
  "language_info": {
   "codemirror_mode": {
    "name": "ipython",
    "version": 3
   },
   "file_extension": ".py",
   "mimetype": "text/x-python",
   "name": "python",
   "nbconvert_exporter": "python",
   "pygments_lexer": "ipython3",
   "version": "3.6.9"
  }
 },
 "nbformat": 4,
 "nbformat_minor": 4
}
