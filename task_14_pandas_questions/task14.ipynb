{
 "cells": [
  {
   "cell_type": "code",
   "execution_count": 1,
   "metadata": {},
   "outputs": [
    {
     "name": "stdout",
     "output_type": "stream",
     "text": [
      "please the first point latitude: 3\n",
      "please the first point longitude: 3\n",
      "please the second point latitude: 3\n",
      "please the second point longitude: 3\n",
      "The distance between these points is 0.0\n"
     ]
    }
   ],
   "source": [
    "#Q1\n",
    "from math import sqrt\n",
    "\n",
    "\n",
    "lat1 = float(input(\"please the first point latitude: \"))\n",
    "lon1 = float(input(\"please the first point longitude: \"))\n",
    "lat2 = float(input(\"please the second point latitude: \"))\n",
    "lon2 = float(input(\"please the second point longitude: \"))\n",
    "    \n",
    "dist = sqrt((abs(lat1-lat2)**2)+(abs(lon1-lon2)**2))\n",
    "print(\"The distance between these points is \" + str(dist))"
   ]
  },
  {
   "cell_type": "code",
   "execution_count": 2,
   "metadata": {},
   "outputs": [
    {
     "name": "stdout",
     "output_type": "stream",
     "text": [
      "The standard deviation is 2.23606797749979\n"
     ]
    }
   ],
   "source": [
    "#Q2\n",
    "from statistics import stdev\n",
    "\n",
    "data = [4, 2, 5, 8, 6]\n",
    "stdev1 = stdev(data)\n",
    "\n",
    "print(\"The standard deviation is \" + str(stdev1))"
   ]
  },
  {
   "cell_type": "code",
   "execution_count": 3,
   "metadata": {},
   "outputs": [
    {
     "data": {
      "text/html": [
       "<style  type=\"text/css\" >\n",
       "    #T_08cf9b54_b163_11ea_9d22_080027cf0b59row0_col0 {\n",
       "            color:  red;\n",
       "        }    #T_08cf9b54_b163_11ea_9d22_080027cf0b59row0_col1 {\n",
       "            color:  black;\n",
       "        }    #T_08cf9b54_b163_11ea_9d22_080027cf0b59row0_col2 {\n",
       "            color:  black;\n",
       "        }    #T_08cf9b54_b163_11ea_9d22_080027cf0b59row0_col3 {\n",
       "            color:  black;\n",
       "        }    #T_08cf9b54_b163_11ea_9d22_080027cf0b59row1_col0 {\n",
       "            color:  black;\n",
       "        }    #T_08cf9b54_b163_11ea_9d22_080027cf0b59row1_col1 {\n",
       "            color:  red;\n",
       "        }    #T_08cf9b54_b163_11ea_9d22_080027cf0b59row1_col2 {\n",
       "            color:  black;\n",
       "        }    #T_08cf9b54_b163_11ea_9d22_080027cf0b59row1_col3 {\n",
       "            color:  red;\n",
       "        }    #T_08cf9b54_b163_11ea_9d22_080027cf0b59row2_col0 {\n",
       "            color:  black;\n",
       "        }    #T_08cf9b54_b163_11ea_9d22_080027cf0b59row2_col1 {\n",
       "            color:  red;\n",
       "        }    #T_08cf9b54_b163_11ea_9d22_080027cf0b59row2_col2 {\n",
       "            color:  red;\n",
       "        }    #T_08cf9b54_b163_11ea_9d22_080027cf0b59row2_col3 {\n",
       "            color:  red;\n",
       "        }    #T_08cf9b54_b163_11ea_9d22_080027cf0b59row3_col0 {\n",
       "            color:  red;\n",
       "        }    #T_08cf9b54_b163_11ea_9d22_080027cf0b59row3_col1 {\n",
       "            color:  red;\n",
       "        }    #T_08cf9b54_b163_11ea_9d22_080027cf0b59row3_col2 {\n",
       "            color:  black;\n",
       "        }    #T_08cf9b54_b163_11ea_9d22_080027cf0b59row3_col3 {\n",
       "            color:  black;\n",
       "        }    #T_08cf9b54_b163_11ea_9d22_080027cf0b59row4_col0 {\n",
       "            color:  black;\n",
       "        }    #T_08cf9b54_b163_11ea_9d22_080027cf0b59row4_col1 {\n",
       "            color:  red;\n",
       "        }    #T_08cf9b54_b163_11ea_9d22_080027cf0b59row4_col2 {\n",
       "            color:  red;\n",
       "        }    #T_08cf9b54_b163_11ea_9d22_080027cf0b59row4_col3 {\n",
       "            color:  black;\n",
       "        }    #T_08cf9b54_b163_11ea_9d22_080027cf0b59row5_col0 {\n",
       "            color:  black;\n",
       "        }    #T_08cf9b54_b163_11ea_9d22_080027cf0b59row5_col1 {\n",
       "            color:  red;\n",
       "        }    #T_08cf9b54_b163_11ea_9d22_080027cf0b59row5_col2 {\n",
       "            color:  black;\n",
       "        }    #T_08cf9b54_b163_11ea_9d22_080027cf0b59row5_col3 {\n",
       "            color:  black;\n",
       "        }    #T_08cf9b54_b163_11ea_9d22_080027cf0b59row6_col0 {\n",
       "            color:  red;\n",
       "        }    #T_08cf9b54_b163_11ea_9d22_080027cf0b59row6_col1 {\n",
       "            color:  red;\n",
       "        }    #T_08cf9b54_b163_11ea_9d22_080027cf0b59row6_col2 {\n",
       "            color:  red;\n",
       "        }    #T_08cf9b54_b163_11ea_9d22_080027cf0b59row6_col3 {\n",
       "            color:  red;\n",
       "        }    #T_08cf9b54_b163_11ea_9d22_080027cf0b59row7_col0 {\n",
       "            color:  black;\n",
       "        }    #T_08cf9b54_b163_11ea_9d22_080027cf0b59row7_col1 {\n",
       "            color:  red;\n",
       "        }    #T_08cf9b54_b163_11ea_9d22_080027cf0b59row7_col2 {\n",
       "            color:  red;\n",
       "        }    #T_08cf9b54_b163_11ea_9d22_080027cf0b59row7_col3 {\n",
       "            color:  black;\n",
       "        }    #T_08cf9b54_b163_11ea_9d22_080027cf0b59row8_col0 {\n",
       "            color:  black;\n",
       "        }    #T_08cf9b54_b163_11ea_9d22_080027cf0b59row8_col1 {\n",
       "            color:  red;\n",
       "        }    #T_08cf9b54_b163_11ea_9d22_080027cf0b59row8_col2 {\n",
       "            color:  black;\n",
       "        }    #T_08cf9b54_b163_11ea_9d22_080027cf0b59row8_col3 {\n",
       "            color:  red;\n",
       "        }    #T_08cf9b54_b163_11ea_9d22_080027cf0b59row9_col0 {\n",
       "            color:  black;\n",
       "        }    #T_08cf9b54_b163_11ea_9d22_080027cf0b59row9_col1 {\n",
       "            color:  black;\n",
       "        }    #T_08cf9b54_b163_11ea_9d22_080027cf0b59row9_col2 {\n",
       "            color:  black;\n",
       "        }    #T_08cf9b54_b163_11ea_9d22_080027cf0b59row9_col3 {\n",
       "            color:  black;\n",
       "        }</style><table id=\"T_08cf9b54_b163_11ea_9d22_080027cf0b59\" ><thead>    <tr>        <th class=\"blank level0\" ></th>        <th class=\"col_heading level0 col0\" >0</th>        <th class=\"col_heading level0 col1\" >1</th>        <th class=\"col_heading level0 col2\" >2</th>        <th class=\"col_heading level0 col3\" >3</th>    </tr></thead><tbody>\n",
       "                <tr>\n",
       "                        <th id=\"T_08cf9b54_b163_11ea_9d22_080027cf0b59level0_row0\" class=\"row_heading level0 row0\" >0</th>\n",
       "                        <td id=\"T_08cf9b54_b163_11ea_9d22_080027cf0b59row0_col0\" class=\"data row0 col0\" >-72</td>\n",
       "                        <td id=\"T_08cf9b54_b163_11ea_9d22_080027cf0b59row0_col1\" class=\"data row0 col1\" >82</td>\n",
       "                        <td id=\"T_08cf9b54_b163_11ea_9d22_080027cf0b59row0_col2\" class=\"data row0 col2\" >32</td>\n",
       "                        <td id=\"T_08cf9b54_b163_11ea_9d22_080027cf0b59row0_col3\" class=\"data row0 col3\" >31</td>\n",
       "            </tr>\n",
       "            <tr>\n",
       "                        <th id=\"T_08cf9b54_b163_11ea_9d22_080027cf0b59level0_row1\" class=\"row_heading level0 row1\" >1</th>\n",
       "                        <td id=\"T_08cf9b54_b163_11ea_9d22_080027cf0b59row1_col0\" class=\"data row1 col0\" >57</td>\n",
       "                        <td id=\"T_08cf9b54_b163_11ea_9d22_080027cf0b59row1_col1\" class=\"data row1 col1\" >-36</td>\n",
       "                        <td id=\"T_08cf9b54_b163_11ea_9d22_080027cf0b59row1_col2\" class=\"data row1 col2\" >88</td>\n",
       "                        <td id=\"T_08cf9b54_b163_11ea_9d22_080027cf0b59row1_col3\" class=\"data row1 col3\" >-27</td>\n",
       "            </tr>\n",
       "            <tr>\n",
       "                        <th id=\"T_08cf9b54_b163_11ea_9d22_080027cf0b59level0_row2\" class=\"row_heading level0 row2\" >2</th>\n",
       "                        <td id=\"T_08cf9b54_b163_11ea_9d22_080027cf0b59row2_col0\" class=\"data row2 col0\" >55</td>\n",
       "                        <td id=\"T_08cf9b54_b163_11ea_9d22_080027cf0b59row2_col1\" class=\"data row2 col1\" >-17</td>\n",
       "                        <td id=\"T_08cf9b54_b163_11ea_9d22_080027cf0b59row2_col2\" class=\"data row2 col2\" >-3</td>\n",
       "                        <td id=\"T_08cf9b54_b163_11ea_9d22_080027cf0b59row2_col3\" class=\"data row2 col3\" >-80</td>\n",
       "            </tr>\n",
       "            <tr>\n",
       "                        <th id=\"T_08cf9b54_b163_11ea_9d22_080027cf0b59level0_row3\" class=\"row_heading level0 row3\" >3</th>\n",
       "                        <td id=\"T_08cf9b54_b163_11ea_9d22_080027cf0b59row3_col0\" class=\"data row3 col0\" >-92</td>\n",
       "                        <td id=\"T_08cf9b54_b163_11ea_9d22_080027cf0b59row3_col1\" class=\"data row3 col1\" >-3</td>\n",
       "                        <td id=\"T_08cf9b54_b163_11ea_9d22_080027cf0b59row3_col2\" class=\"data row3 col2\" >42</td>\n",
       "                        <td id=\"T_08cf9b54_b163_11ea_9d22_080027cf0b59row3_col3\" class=\"data row3 col3\" >61</td>\n",
       "            </tr>\n",
       "            <tr>\n",
       "                        <th id=\"T_08cf9b54_b163_11ea_9d22_080027cf0b59level0_row4\" class=\"row_heading level0 row4\" >4</th>\n",
       "                        <td id=\"T_08cf9b54_b163_11ea_9d22_080027cf0b59row4_col0\" class=\"data row4 col0\" >68</td>\n",
       "                        <td id=\"T_08cf9b54_b163_11ea_9d22_080027cf0b59row4_col1\" class=\"data row4 col1\" >-2</td>\n",
       "                        <td id=\"T_08cf9b54_b163_11ea_9d22_080027cf0b59row4_col2\" class=\"data row4 col2\" >-17</td>\n",
       "                        <td id=\"T_08cf9b54_b163_11ea_9d22_080027cf0b59row4_col3\" class=\"data row4 col3\" >93</td>\n",
       "            </tr>\n",
       "            <tr>\n",
       "                        <th id=\"T_08cf9b54_b163_11ea_9d22_080027cf0b59level0_row5\" class=\"row_heading level0 row5\" >5</th>\n",
       "                        <td id=\"T_08cf9b54_b163_11ea_9d22_080027cf0b59row5_col0\" class=\"data row5 col0\" >72</td>\n",
       "                        <td id=\"T_08cf9b54_b163_11ea_9d22_080027cf0b59row5_col1\" class=\"data row5 col1\" >-53</td>\n",
       "                        <td id=\"T_08cf9b54_b163_11ea_9d22_080027cf0b59row5_col2\" class=\"data row5 col2\" >94</td>\n",
       "                        <td id=\"T_08cf9b54_b163_11ea_9d22_080027cf0b59row5_col3\" class=\"data row5 col3\" >31</td>\n",
       "            </tr>\n",
       "            <tr>\n",
       "                        <th id=\"T_08cf9b54_b163_11ea_9d22_080027cf0b59level0_row6\" class=\"row_heading level0 row6\" >6</th>\n",
       "                        <td id=\"T_08cf9b54_b163_11ea_9d22_080027cf0b59row6_col0\" class=\"data row6 col0\" >-4</td>\n",
       "                        <td id=\"T_08cf9b54_b163_11ea_9d22_080027cf0b59row6_col1\" class=\"data row6 col1\" >-68</td>\n",
       "                        <td id=\"T_08cf9b54_b163_11ea_9d22_080027cf0b59row6_col2\" class=\"data row6 col2\" >-74</td>\n",
       "                        <td id=\"T_08cf9b54_b163_11ea_9d22_080027cf0b59row6_col3\" class=\"data row6 col3\" >-45</td>\n",
       "            </tr>\n",
       "            <tr>\n",
       "                        <th id=\"T_08cf9b54_b163_11ea_9d22_080027cf0b59level0_row7\" class=\"row_heading level0 row7\" >7</th>\n",
       "                        <td id=\"T_08cf9b54_b163_11ea_9d22_080027cf0b59row7_col0\" class=\"data row7 col0\" >38</td>\n",
       "                        <td id=\"T_08cf9b54_b163_11ea_9d22_080027cf0b59row7_col1\" class=\"data row7 col1\" >-87</td>\n",
       "                        <td id=\"T_08cf9b54_b163_11ea_9d22_080027cf0b59row7_col2\" class=\"data row7 col2\" >-76</td>\n",
       "                        <td id=\"T_08cf9b54_b163_11ea_9d22_080027cf0b59row7_col3\" class=\"data row7 col3\" >24</td>\n",
       "            </tr>\n",
       "            <tr>\n",
       "                        <th id=\"T_08cf9b54_b163_11ea_9d22_080027cf0b59level0_row8\" class=\"row_heading level0 row8\" >8</th>\n",
       "                        <td id=\"T_08cf9b54_b163_11ea_9d22_080027cf0b59row8_col0\" class=\"data row8 col0\" >0</td>\n",
       "                        <td id=\"T_08cf9b54_b163_11ea_9d22_080027cf0b59row8_col1\" class=\"data row8 col1\" >-35</td>\n",
       "                        <td id=\"T_08cf9b54_b163_11ea_9d22_080027cf0b59row8_col2\" class=\"data row8 col2\" >12</td>\n",
       "                        <td id=\"T_08cf9b54_b163_11ea_9d22_080027cf0b59row8_col3\" class=\"data row8 col3\" >-3</td>\n",
       "            </tr>\n",
       "            <tr>\n",
       "                        <th id=\"T_08cf9b54_b163_11ea_9d22_080027cf0b59level0_row9\" class=\"row_heading level0 row9\" >9</th>\n",
       "                        <td id=\"T_08cf9b54_b163_11ea_9d22_080027cf0b59row9_col0\" class=\"data row9 col0\" >62</td>\n",
       "                        <td id=\"T_08cf9b54_b163_11ea_9d22_080027cf0b59row9_col1\" class=\"data row9 col1\" >63</td>\n",
       "                        <td id=\"T_08cf9b54_b163_11ea_9d22_080027cf0b59row9_col2\" class=\"data row9 col2\" >65</td>\n",
       "                        <td id=\"T_08cf9b54_b163_11ea_9d22_080027cf0b59row9_col3\" class=\"data row9 col3\" >2</td>\n",
       "            </tr>\n",
       "    </tbody></table>"
      ],
      "text/plain": [
       "<pandas.io.formats.style.Styler at 0x7fd95c05dcc0>"
      ]
     },
     "execution_count": 3,
     "metadata": {},
     "output_type": "execute_result"
    }
   ],
   "source": [
    "#Q3\n",
    "import pandas as pd\n",
    "import numpy as np\n",
    "\n",
    "\n",
    "colour_df = pd.DataFrame(np.random.randint(-100,100,size=(10, 4)))\n",
    "colour_df.style.apply(lambda x: [\"color: red\" if v < 0 else \"color: black\" for v in x], axis = 1)\n"
   ]
  },
  {
   "cell_type": "code",
   "execution_count": 4,
   "metadata": {},
   "outputs": [
    {
     "name": "stdout",
     "output_type": "stream",
     "text": [
      "Date now: 2020-06-18 13:55:49.923496\n",
      "Oldest Sighting: 1906-11-11 00:00:00\n",
      "Difference between oldest sighting and now in days: 41493\n"
     ]
    },
    {
     "name": "stderr",
     "output_type": "stream",
     "text": [
      "/usr/local/lib/python3.6/dist-packages/IPython/core/interactiveshell.py:3063: DtypeWarning: Columns (5,9) have mixed types.Specify dtype option on import or set low_memory=False.\n",
      "  interactivity=interactivity, compiler=compiler, result=result)\n"
     ]
    }
   ],
   "source": [
    "#Q4\n",
    "from datetime import datetime\n",
    "\n",
    "ufo_df = pd.read_csv(\"./ufo_sighting_data.csv\")\n",
    "\n",
    "\n",
    "ufo_df['Date_time'] = pd.to_datetime(ufo_df['Date_time'],format='%d/%m/%Y %H:%M', errors=\"coerce\")\n",
    "\n",
    "oldest = ufo_df['Date_time'].min()\n",
    "now = datetime.now()\n",
    "delta = now - oldest\n",
    "\n",
    "print(\"Date now: \" + str(now))\n",
    "print(\"Oldest Sighting: \" + str(oldest))\n",
    "print(\"Difference between oldest sighting and now in days: \" + str(delta.days))"
   ]
  },
  {
   "cell_type": "code",
   "execution_count": 12,
   "metadata": {},
   "outputs": [
    {
     "name": "stdout",
     "output_type": "stream",
     "text": [
      "30664    2004\n",
      "Name: Date_time, dtype: int64\n",
      "30664    1\n",
      "Name: Date_time, dtype: int64\n",
      "30664    3\n",
      "Name: Date_time, dtype: int64\n",
      "30664    14\n",
      "Name: Date_time, dtype: int64\n",
      "30664    0\n",
      "Name: Date_time, dtype: int64\n",
      "30664    0\n",
      "Name: Date_time, dtype: int64\n",
      "30664    5\n",
      "Name: Date_time, dtype: int64\n"
     ]
    }
   ],
   "source": [
    "#Q5\n",
    "\n",
    "def dtExtract(datetimeobj):\n",
    "    print(str(datetimeobj.dt.year))\n",
    "    print(str(datetimeobj.dt.month))\n",
    "    print(str(datetimeobj.dt.day))\n",
    "    print(str(datetimeobj.dt.hour))\n",
    "    print(str(datetimeobj.dt.minute))\n",
    "    print(str(datetimeobj.dt.second))\n",
    "    print(str(datetimeobj.dt.weekday))\n",
    "    \n",
    "dtExtract(ufo_df['Date_time'].sample())"
   ]
  },
  {
   "cell_type": "code",
   "execution_count": 18,
   "metadata": {},
   "outputs": [
    {
     "data": {
      "text/plain": [
       "(array([], dtype=int64), array([], dtype=int64))"
      ]
     },
     "execution_count": 18,
     "metadata": {},
     "output_type": "execute_result"
    }
   ],
   "source": [
    "#Q6\n",
    "np.where(ufo_df.applymap(lambda x: x == ''))"
   ]
  },
  {
   "cell_type": "code",
   "execution_count": null,
   "metadata": {},
   "outputs": [],
   "source": []
  },
  {
   "cell_type": "markdown",
   "metadata": {},
   "source": []
  }
 ],
 "metadata": {
  "kernelspec": {
   "display_name": "Python 3",
   "language": "python",
   "name": "python3"
  },
  "language_info": {
   "codemirror_mode": {
    "name": "ipython",
    "version": 3
   },
   "file_extension": ".py",
   "mimetype": "text/x-python",
   "name": "python",
   "nbconvert_exporter": "python",
   "pygments_lexer": "ipython3",
   "version": "3.6.9"
  }
 },
 "nbformat": 4,
 "nbformat_minor": 4
}
